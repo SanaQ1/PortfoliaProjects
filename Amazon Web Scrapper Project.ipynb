{
 "cells": [
  {
   "cell_type": "code",
   "execution_count": 1,
   "id": "052987e3",
   "metadata": {},
   "outputs": [],
   "source": [
    "# import libraries \n",
    "\n",
    "from bs4 import BeautifulSoup\n",
    "import requests\n",
    "import time\n",
    "import datetime\n",
    "\n",
    "import smtplib"
   ]
  },
  {
   "cell_type": "code",
   "execution_count": 16,
   "id": "b43469e3",
   "metadata": {},
   "outputs": [
    {
     "name": "stdout",
     "output_type": "stream",
     "text": [
      "\n",
      "                   Funny Got Data MIS Data Systems Business Analyst T-Shirt\n",
      "                  \n",
      "\n",
      "                    14 ratings\n",
      "                   \n"
     ]
    }
   ],
   "source": [
    "# Connect to Website and pull in data\n",
    "\n",
    "URL = 'https://www.amazon.com/Funny-Data-Systems-Business-Analyst/dp/B07FNW9FGJ/ref=sr_1_3?dchild=1&keywords=data%2Banalyst%2Btshirt&qid=1626655184&sr=8-3&customId=B0752XJYNL&th=1'\n",
    "\n",
    "#Get your header from https://httpbin.org/get\n",
    "headers = {\"User-Agent\": \"Mozilla/5.0 (Windows NT 10.0; Win64; x64) AppleWebKit/537.36 (KHTML, like Gecko) Chrome/78.0.3904.108 Safari/537.36\", \"Accept-Encoding\":\"gzip, deflate\", \"Accept\":\"text/html,application/xhtml+xml,application/xml;q=0.9,*/*;q=0.8\", \"DNT\":\"1\",\"Connection\":\"close\", \"Upgrade-Insecure-Requests\":\"1\"}\n",
    "\n",
    "page = requests.get(URL, headers=headers)\n",
    "\n",
    "#Parsing the html of the url\n",
    "soup1 = BeautifulSoup(page.content, \"html.parser\")\n",
    "\n",
    "#To make the above object look little neat\n",
    "soup2 =BeautifulSoup(soup1.prettify(),\"html.parser\")\n",
    "\n",
    "#To get the title of the page\n",
    "title = soup2.find(id=\"productTitle\").get_text()\n",
    "\n",
    "\n",
    "#To get the price\n",
    "rating = soup2.find(id='acrCustomerReviewText').get_text()\n",
    "\n",
    "print(title)\n",
    "print(rating)\n",
    "\n"
   ]
  },
  {
   "cell_type": "code",
   "execution_count": 19,
   "id": "b15c0e96",
   "metadata": {},
   "outputs": [],
   "source": [
    "#Lets strip rating text from rating\n",
    "rating = rating.strip()[0:2]\n",
    "title = title.strip()"
   ]
  },
  {
   "cell_type": "code",
   "execution_count": 20,
   "id": "adfb7184",
   "metadata": {},
   "outputs": [
    {
     "name": "stdout",
     "output_type": "stream",
     "text": [
      "14\n",
      "Funny Got Data MIS Data Systems Business Analyst T-Shirt\n"
     ]
    }
   ],
   "source": [
    "print(rating)\n",
    "print(title)"
   ]
  },
  {
   "cell_type": "code",
   "execution_count": 24,
   "id": "fdad2ea7",
   "metadata": {},
   "outputs": [],
   "source": [
    "#Now creating a csv file and adding this data in there\n",
    "import csv\n",
    "\n",
    "header = ['Title', 'Rating']\n",
    "data= [title, rating]       #converting the data into list\n",
    "#type(data)\n",
    "\n",
    "with open('AmazonWebScrap.csv','w', newline='',encoding='UTF8') as f:\n",
    "    write = csv.writer(f)\n",
    "    write.writerow(header)\n",
    "    write.writerow(data)\n",
    "    \n"
   ]
  },
  {
   "cell_type": "code",
   "execution_count": 28,
   "id": "5cf265bc",
   "metadata": {},
   "outputs": [],
   "source": [
    "#Printing today's date\n",
    "today = datetime.date.today()\n",
    "#print(today)\n",
    "#lets add this date to our cvs file\n",
    "header = ['Title', 'Rating','Date']\n",
    "data= [title, rating, today]       #converting the data into list\n",
    "#type(data)\n",
    "\n",
    "with open('AmazonWebScrap.csv','w', newline='',encoding='UTF8') as f:\n",
    "    write = csv.writer(f)\n",
    "    write.writerow(header)\n",
    "    write.writerow(data)\n"
   ]
  },
  {
   "cell_type": "code",
   "execution_count": null,
   "id": "cb568236",
   "metadata": {},
   "outputs": [],
   "source": [
    "#To read the csv file from pandas date frame\n",
    "import pandas as pd\n",
    "df=pd.read_csv(r'C:\\Users\\User\\AmazonWebScrap.csv')\n",
    "df"
   ]
  },
  {
   "cell_type": "code",
   "execution_count": 30,
   "id": "38fbfa41",
   "metadata": {},
   "outputs": [],
   "source": [
    "#Appending the same data to the file\n",
    "with open('AmazonWebScrap.csv','a+', newline='',encoding='UTF8') as f:\n",
    "    write = csv.writer(f)\n",
    "    write.writerow(data)"
   ]
  },
  {
   "cell_type": "code",
   "execution_count": 38,
   "id": "1af03a4e",
   "metadata": {},
   "outputs": [],
   "source": [
    "#Combine all of the above code into one function to automate the process\n",
    "\n",
    "\n",
    "def check_rating():\n",
    "    URL = 'https://www.amazon.com/Funny-Data-Systems-Business-Analyst/dp/B07FNW9FGJ/ref=sr_1_3?dchild=1&keywords=data%2Banalyst%2Btshirt&qid=1626655184&sr=8-3&customId=B0752XJYNL&th=1'\n",
    "\n",
    "    headers = {\"User-Agent\": \"Mozilla/5.0 (Windows NT 10.0; Win64; x64) AppleWebKit/537.36 (KHTML, like Gecko) Chrome/78.0.3904.108 Safari/537.36\", \"Accept-Encoding\":\"gzip, deflate\", \"Accept\":\"text/html,application/xhtml+xml,application/xml;q=0.9,*/*;q=0.8\", \"DNT\":\"1\",\"Connection\":\"close\", \"Upgrade-Insecure-Requests\":\"1\"}\n",
    "\n",
    "    page = requests.get(URL, headers=headers)\n",
    "\n",
    "    soup1 = BeautifulSoup(page.content, \"html.parser\")\n",
    "\n",
    "    soup2 = BeautifulSoup(soup1.prettify(), \"html.parser\")\n",
    "\n",
    "    title = soup2.find(id='productTitle').get_text()\n",
    "\n",
    "    rating = soup2.find(id='acrCustomerReviewText').get_text()\n",
    "\n",
    "    rating = rating.strip()[0:2]\n",
    "    title = title.strip()\n",
    "\n",
    "    import datetime\n",
    "\n",
    "    today = datetime.date.today()\n",
    "    \n",
    "    import csv \n",
    "\n",
    "    header = ['Title', 'Rating', 'Date']\n",
    "    data = [title, rating, today]\n",
    "\n",
    "    with open('AmazonWebScrap.csv', 'a+', newline='', encoding='UTF8') as f:\n",
    "        write = csv.writer(f)\n",
    "        write.writerow(data)"
   ]
  },
  {
   "cell_type": "code",
   "execution_count": null,
   "id": "f1dea696",
   "metadata": {},
   "outputs": [],
   "source": [
    "#Loop it through to append according to the time set \n",
    "while(True):\n",
    "    check_rating()\n",
    "    time.sleep(86400)"
   ]
  },
  {
   "cell_type": "code",
   "execution_count": null,
   "id": "56f3fb20",
   "metadata": {},
   "outputs": [],
   "source": [
    "with open('AmazonWebScrap.csv','a+', newline='',encoding='UTF8') as f:\n",
    "    write = csv.writer(f)\n",
    "    write.writerow(data)"
   ]
  },
  {
   "cell_type": "code",
   "execution_count": null,
   "id": "55b875b9",
   "metadata": {},
   "outputs": [],
   "source": []
  }
 ],
 "metadata": {
  "kernelspec": {
   "display_name": "Python 3 (ipykernel)",
   "language": "python",
   "name": "python3"
  },
  "language_info": {
   "codemirror_mode": {
    "name": "ipython",
    "version": 3
   },
   "file_extension": ".py",
   "mimetype": "text/x-python",
   "name": "python",
   "nbconvert_exporter": "python",
   "pygments_lexer": "ipython3",
   "version": "3.9.7"
  }
 },
 "nbformat": 4,
 "nbformat_minor": 5
}
